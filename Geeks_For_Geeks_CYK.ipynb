{
  "nbformat": 4,
  "nbformat_minor": 0,
  "metadata": {
    "colab": {
      "provenance": []
    },
    "kernelspec": {
      "name": "python3",
      "display_name": "Python 3"
    },
    "language_info": {
      "name": "python"
    }
  },
  "cells": [
    {
      "cell_type": "code",
      "source": [
        "\n",
        " # Python implementation for the\n",
        "# CYK Algorithm\n",
        "\n",
        "# Non-terminal symbols\n",
        "non_terminals = [\"NP\", \"Nom\", \"Det\", \"AP\",\n",
        "                  \"Adv\", \"A\"]\n",
        "terminals = [\"book\", \"orange\", \"man\",\n",
        "             \"tall\", \"heavy\",\n",
        "             \"very\", \"muscular\"]\n",
        "\n",
        "# Rules of the grammar\n",
        "R = {\n",
        "     \"NP\": [[\"Det\", \"Nom\"]],\n",
        "     \"Nom\": [[\"AP\", \"Nom\"], [\"book\"],\n",
        "             [\"orange\"], [\"man\"]],\n",
        "     \"AP\": [[\"Adv\", \"A\"], [\"heavy\"],\n",
        "            [\"orange\"], [\"tall\"]],\n",
        "     \"Det\": [[\"a\"]],\n",
        "     \"Adv\": [[\"very\"], [\"extremely\"]],\n",
        "     \"A\": [[\"heavy\"], [\"orange\"], [\"tall\"],\n",
        "           [\"muscular\"]]\n",
        "    }\n",
        "\n",
        "# Function to perform the CYK Algorithm\n",
        "def cykParse(w):\n",
        "    n = len(w)\n",
        "\n",
        "    # Initialize the table\n",
        "    T = [[set([]) for j in range(n)] for i in range(n)]\n",
        "\n",
        "    # Filling in the table\n",
        "    for j in range(0, n):\n",
        "\n",
        "        # Iterate over the rules\n",
        "        for lhs, rule in R.items():\n",
        "            for rhs in rule:\n",
        "\n",
        "                # If a terminal is found\n",
        "                if len(rhs) == 1 and \\\n",
        "                rhs[0] == w[j]:\n",
        "                    T[j][j].add(lhs)\n",
        "\n",
        "        for i in range(j, -1, -1):\n",
        "\n",
        "            # Iterate over the range i to j + 1\n",
        "            for k in range(i, j + 1):\n",
        "\n",
        "                # Iterate over the rules\n",
        "                for lhs, rule in R.items():\n",
        "                    for rhs in rule:\n",
        "\n",
        "                        # If a terminal is found\n",
        "                        if len(rhs) == 2 and \\\n",
        "                        rhs[0] in T[i][k] and \\\n",
        "                        rhs[1] in T[k + 1][j]:\n",
        "                            T[i][j].add(lhs)\n",
        "\n",
        "    # If word can be formed by rules\n",
        "    # of given grammar\n",
        "    if len(T[0][n-1]) != 0:\n",
        "        print(\"True\")\n",
        "    else:\n",
        "        print(\"False\")\n",
        "\n",
        "# Driver Code\n",
        "\n",
        "# Given string\n",
        "w = \"a very heavy orange book\".split()\n",
        "\n",
        "# Function Call\n",
        "cykParse(w)"
      ],
      "metadata": {
        "colab": {
          "base_uri": "https://localhost:8080/"
        },
        "id": "FBSJhZFbTRcP",
        "outputId": "0c75b998-cc26-4178-8b90-25bfd80a3555"
      },
      "execution_count": 2,
      "outputs": [
        {
          "output_type": "stream",
          "name": "stdout",
          "text": [
            "True\n"
          ]
        }
      ]
    }
  ]
}