{
 "cells": [
  {
   "cell_type": "markdown",
   "metadata": {},
   "source": [
    "# Context Free Grammar Parsing using the CYK Algorithm\n",
    "## Muya Guoji and Evelyn Kessler\n",
    "## December 17, 2023"
   ]
  },
  {
   "cell_type": "markdown",
   "metadata": {},
   "source": [
    "Outline\n",
    "\n",
    "    A 10-15 minutes presentation during final events period\n",
    "    Code for your implementation (when relevant) and instructions for how to run the code\n",
    "    A 5 pages write up describing the work and walking through the code\n",
    "\n",
    "- introduction; what is the CYK algorithm, our inspiration for the project, basic premise of CFG parsing\n",
    "- introducing the CYK algorithm; what is Chomsky Normal Form (unary terminal and binary non-terminals) and why do we need it/how to write in it, basic architecture of the algorithm, possible uses/real world examples, theory walkthrough with lots of visuals (parsing trees)\n",
    "- step by step; detailed step by step through the algorithm (practical walkthrough), explain each line, use print outs or other visuals to explain what the loops are doing\n",
    "- using CYK parsing on natural language; transformers fail to get semantics while parsing can clarify ambiguous language, what are parts of speech, examples with real sentences (both parsing tree and run through our algorithm)\n",
    "\n",
    "- showing our algorithm with comments/docstring/etc\n",
    "- short paragraph of how to run it what the print outs mean\n",
    "- some example CFGs that you can run and let user pick the sentence (try and create true and false sentences)"
   ]
  }
 ],
 "metadata": {
  "kernelspec": {
   "display_name": "Python 3",
   "language": "python",
   "name": "python3"
  },
  "language_info": {
   "name": "python",
   "version": "3.11.6"
  }
 },
 "nbformat": 4,
 "nbformat_minor": 2
}
