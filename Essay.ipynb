{
 "cells": [
  {
   "cell_type": "markdown",
   "metadata": {},
   "source": [
    "# Context Free Grammar Parsing using the CYK Algorithm\n",
    "## Muya Guoji and Evelyn Kessler\n",
    "## December 17, 2023"
   ]
  },
  {
   "cell_type": "markdown",
   "metadata": {},
   "source": [
    "Outline\n",
    "\n",
    "    A 10-15 minutes presentation during final events period\n",
    "    Code for your implementation (when relevant) and instructions for how to run the code\n",
    "    A 5 pages write up describing the work and walking through the code\n",
    "\n",
    "- introduction; what is the CYK algorithm, our inspiration for the project, basic premise of CFG parsing\n",
    "- introducing the CYK algorithm; what is Chomsky Normal Form (unary terminal and binary non-terminals) and why do we need it/how to write in it, basic architecture of the algorithm, possible uses/real world examples, theory walkthrough with lots of visuals (parsing trees)\n",
    "- step by step; detailed step by step through the algorithm (practical walkthrough), explain each line, use print outs or other visuals to explain what the loops are doing\n",
    "- using CYK parsing on natural language; transformers fail to get semantics while parsing can clarify ambiguous language, what are parts of speech, examples with real sentences (both parsing tree and run through our algorithm)\n",
    "\n",
    "- showing our algorithm with comments/docstring/etc\n",
    "- short paragraph of how to run it what the print outs mean\n",
    "- some example CFGs that you can run and let user pick the sentence (try and create true and false sentences)"
   ]
  },
  {
   "cell_type": "markdown",
   "metadata": {},
   "source": [
    "### Table of Contents\n",
    "1. [Introduction](#introduction) - Evelyn\n",
    "    1. [What is CFG Parsing?](#subintroduction1) - Evelyn\n",
    "    2. [CFG Parsing in the Real World](#subintroduction2) - Evelyn\n",
    "2. [The CYK Algorithm](#paragraph1)\n",
    "    1. [Chomsky Normal Form](#subparagraph11) - Muya\n",
    "    2. [Basic Code Architecture](#subparagraph12) - Muya\n",
    "    3. [Uses in the World](#subparagraph13) - Evelyn\n",
    "    4. [Visual Walkthrough](#subparagraph14) - Evelyn\n",
    "3. [Code Walkthrough](#paragraph2) - Muya\n",
    "\n",
    "4. [CYK Parsing on Natural Langauge](#paragraph3)\n",
    "    1. [Benefits of CYK over Transformers](#subparagraph31) - Muya\n",
    "    2. [What are Parts of Speech?](#subparagraph32) - Muya\n",
    "    3. [Writing CNF CFGs for Natural Language Parsing](#subparagraph33) - Evelyn (geeks for geeks reference)\n",
    "    4. [Visual Walkthrough: Parsing a Sentence](#subparagraph34) - Evelyn\n",
    "5. [Appendix](#appendix)\n",
    "    1. [CYK Implementation](#subappendix1)\n",
    "    2. [Instructions for Running the Algorithm](#subappendix2)\n",
    "    3. [Example CFGs and strings to parse](#subappendix3)\n",
    "    4. [How to create your own CFG and strings to parse](#subappendix4)\n",
    "6. [Sources](#sources)"
   ]
  },
  {
   "cell_type": "markdown",
   "metadata": {},
   "source": [
    "#### Introduction <a name=\"introduction\"></a>\n",
    "A context free grammar, or CFG, is a grammar that is used to generate all possible strings in a given language. A context free grammar, G, can be defined by a tuple \n",
    "\n",
    "$$\n",
    "G = (\\Sigma, \\Gamma, R, S)\n",
    "$$\n",
    "\n",
    "where $$\\Sigma$$ is a list of terminal symbols, $$\\Gamma$$ is a list of non-terminal symbols, R is a list of rules of the form $$x -> \\mu$$ where $$\\mu \\elem (\\Gamma \\cup \\Sigma)*$$, and S is the start symbol. One way of defining a language is to write a CFG for that language. Then, we can find for any string whether that string is in the language by evaluating whether the rules of the CFG could possibly generate that string. For this method we start with the start symbol S and apply the rules continuously until we generate the desired string. If we can't generate the string after (a reasonable number of) rules applications *double check this is actually right; are CFGs where you get stuck or where you run out??*, we can conclude that the given string is not valid for the language described by that CFG.\n",
    "\n",
    "##### What is CFG Parsing? <a name=\"subintroduction1\"></a>\n",
    "CFG parsing is another way to find whether a given string is valid for a language as described by a CFG. Instead of starting with S and building up to the given string using the rules, CFG parsing works backwards, starting with the given string and seeing if we can reduce it to S using a combination of the given rules.\n",
    "\n",
    "##### CFG Parsing in the Real World <a name=\"subintroduction2\"></a>\n",
    "\n"
   ]
  },
  {
   "cell_type": "markdown",
   "metadata": {},
   "source": [
    "#### The CYK Algorithm <a name=\"paragraph1\"></a>\n",
    "\n",
    "##### Chomsky Normal Form <a name=\"subparagraph11\"></a>\n",
    "\n",
    "##### Basic Code Architecture <a name=\"subparagraph12\"></a>"
   ]
  },
  {
   "cell_type": "markdown",
   "metadata": {},
   "source": [
    "#### Sources <a name=\"sources\"></a>"
   ]
  }
 ],
 "metadata": {
  "kernelspec": {
   "display_name": "Python 3",
   "language": "python",
   "name": "python3"
  },
  "language_info": {
   "name": "python",
   "version": "3.11.6"
  }
 },
 "nbformat": 4,
 "nbformat_minor": 2
}
