{
 "cells": [
  {
   "cell_type": "markdown",
   "metadata": {},
   "source": [
    "# Context Free Grammar Parsing using the CYK Algorithm\n",
    "## Muya Guoji and Evelyn Kessler\n",
    "## December 17, 2023"
   ]
  },
  {
   "cell_type": "markdown",
   "metadata": {},
   "source": [
    "Outline\n",
    "\n",
    "    A 10-15 minutes presentation during final events period\n",
    "    Code for your implementation (when relevant) and instructions for how to run the code\n",
    "    A 5 pages write up describing the work and walking through the code\n",
    "\n",
    "- introduction; what is the CYK algorithm, our inspiration for the project, basic premise of CFG parsing\n",
    "- introducing the CYK algorithm; what is Chomsky Normal Form (unary terminal and binary non-terminals) and why do we need it/how to write in it, basic architecture of the algorithm, possible uses/real world examples, theory walkthrough with lots of visuals (parsing trees)\n",
    "- step by step; detailed step by step through the algorithm (practical walkthrough), explain each line, use print outs or other visuals to explain what the loops are doing\n",
    "- using CYK parsing on natural language; transformers fail to get semantics while parsing can clarify ambiguous language, what are parts of speech, examples with real sentences (both parsing tree and run through our algorithm)\n",
    "\n",
    "- showing our algorithm with comments/docstring/etc\n",
    "- short paragraph of how to run it what the print outs mean\n",
    "- some example CFGs that you can run and let user pick the sentence (try and create true and false sentences)"
   ]
  },
  {
   "cell_type": "markdown",
   "metadata": {},
   "source": [
    "### Table of Contents\n",
    "1. [Introduction](#introduction) - Evelyn\n",
    "    1. [What is CFG Parsing?](#subintroduction1) - Evelyn\n",
    "    2. [CFG Parsing in the Real World](#subintroduction2) - Evelyn\n",
    "2. [The CYK Algorithm](#paragraph1)\n",
    "    1. [Chomsky Normal Form](#subparagraph11) - Muya\n",
    "    2. [Basic Code Architecture](#subparagraph12) - Muya\n",
    "    3. [Uses in the World](#subparagraph13) - Evelyn\n",
    "    4. [Visual Walkthrough](#subparagraph14) - Evelyn\n",
    "3. [Code Walkthrough](#paragraph2) - Muya\n",
    "\n",
    "4. [CYK Parsing on Natural Langauge](#paragraph3)\n",
    "    1. [Benefits of CYK over Transformers](#subparagraph31) - Muya\n",
    "    2. [What are Parts of Speech?](#subparagraph32) - Muya\n",
    "    3. [Writing CNF CFGs for Natural Language Parsing](#subparagraph33) - Evelyn (geeks for geeks reference)\n",
    "    4. [Visual Walkthrough: Parsing a Sentence](#subparagraph34) - Evelyn\n",
    "5. [Appendix](#appendix)\n",
    "    1. [CYK Implementation](#subappendix1)\n",
    "    2. [Instructions for Running the Algorithm](#subappendix2)\n",
    "    3. [Example CFGs and strings to parse](#subappendix3)\n",
    "    4. [How to create your own CFG and strings to parse](#subappendix4)\n",
    "6. [Sources](#sources)"
   ]
  },
  {
   "cell_type": "markdown",
   "metadata": {},
   "source": [
    "#### Introduction <a name=\"introduction\"></a>\n",
    "A context free grammar, or CFG, is a grammar that is used to generate all possible strings in a given language. A context free grammar, G, can be defined by a tuple \n",
    "\n",
    "$$\n",
    "G = (\\Sigma, \\Gamma, R, S)\n",
    "$$\n",
    "\n",
    "where $$\\Sigma$$ is a list of terminal symbols, $$\\Gamma$$ is a list of non-terminal symbols, R is a list of rules of the form $$x -> \\mu$$ where $$\\mu \\elem (\\Gamma \\cup \\Sigma)*$$, and S is the start symbol. One way of defining a language is to write a CFG for that language. Then, we can find for any string whether that string is in the language by evaluating whether the rules of the CFG could possibly generate that string. For this method we start with the start symbol S and apply the rules continuously until we generate the desired string. If we can't generate the string after (a reasonable number of) rules applications *double check this is actually right; are CFGs where you get stuck or where you run out??*, we can conclude that the given string is not valid for the language described by that CFG.\n",
    "\n",
    "##### What is CFG Parsing? <a name=\"subintroduction1\"></a>\n",
    "CFG parsing is another way to find whether a given string is valid for a language as described by a CFG. Instead of starting with S and building up to the given string using the rules, CFG parsing works backwards, starting with the given string and seeing if we can reduce it to S using a combination of the given rules.\n",
    "\n",
    "##### CFG Parsing in the Real World <a name=\"subintroduction2\"></a>\n",
    "\n"
   ]
  },
  {
   "cell_type": "markdown",
   "metadata": {},
   "source": [
    "#### The CYK Algorithm <a name=\"paragraph1\"></a>\n",
    "\n",
    "##### Chomsky Normal Form <a name=\"subparagraph11\"></a>\n",
    "Before delving into the algorithm, we would like to first touch on the concept of Chomsky Normal Form (CNF). It is a prerequisite for understanding the CYK algorithm, as the algorithm specifically requires grammars to be in CNF in order to be processed. \n",
    "\n",
    "CNF, developed by the well-known modern linguist Noam Chomsky, aims to simplify the rules of context-free\n",
    "grammars for more efficient parsing and algorithmic analysis. It is a specific method for expressing CFGs, wherein every production rule takes one of two forms: either a non-terminal symbol producing two other non-terminal symbols or a non-terminal symbol producing a single terminal symbol. This single terminal symbol may include epsilon, indicating the deletion of a sentence. \n",
    "\n",
    "$$\n",
    "A-> BC\n",
    "$$\n",
    "$$\n",
    "A-> a\n",
    "$$\n",
    "$$\n",
    "S-> \\Epsilon\n",
    "$$\n",
    "*(Uppercase letters represent non-terminal symbols, and lowercase letters represent terminal symbols)*\n",
    "\n",
    "\n",
    "By unifying production rules in such a specific and clean form really simplifies the design and analysis of parsing\n",
    "algorithms like CYK. \n",
    "\n",
    "\n",
    "##### Basic Code Architecture <a name=\"subparagraph12\"></a>\n",
    "Let's begin the code run-through of the algorithm with a high-level overview of the CYK algorithm's architecture:\n",
    "\n",
    "1. Input and Grammar Preparation: The algorithm starts with an input string, which are sentences breaking down into words, and a set of grammar rules in Chomsky Normal Form (CNF).\n",
    "\n",
    "2. Table Initialization: A table (matrix) is created with dimensions based on the length of the input string. This table will be used to store possible grammar derivations for substrings of the input.\n",
    "\n",
    "3. Table Filling: starting from the bottom level, the algorithm fills in the table and moves upward gradually. Each cell in the table represents a substring of the sentence and is filled with all possible grammar rules that could generate that substring. \n",
    "\n",
    "4. Combining Substrings: As it moves up the table, the algorithm combines smaller substrings that have already been matched with grammar rules to form larger substrings. It checks to see if these larger substrings can be generated by any of the CFG rules.\n",
    "\n",
    "5. Final Verification: Once the table is filled, the algorithm checks the top cell , which represents the entire string (sentence). If this cell contains the start symbol of the grammar, the string is considered derivable from the given grammar.\n",
    "\n",
    "6. Result and Visualization: Visualization of the table after each iteration can be used to enhance clarity and explainability of the processes for model implementers."
   ]
  },
  {
   "cell_type": "markdown",
   "metadata": {},
   "source": [
    "#### Code Walkthrough <a name=\"paragraph1\"></a>"
   ]
  },
  {
   "cell_type": "markdown",
   "metadata": {},
   "source": [
    "#### CYK Parsing on Natural Langauge<a name=\"paragraph1\"></a>\n",
    "\n",
    "##### The Benifits of CYK in NLP and a Comparative Analysis with Transformers <a name=\"subparagraph11\"></a>\n",
    "Natural Language Processing (NLP) is a field is an interdisciplinary subfield of computer science and linguistics. that is primarily concerned with giving computers the ability to support and manipulate human language (*Wikipedia*). It encompasses a range of algorithmic tools for enabling computers to understand and process human language. Among these tools are transformers and the CYK algorithm.\n",
    "\n",
    "With the development and hype surrounding many large language models, transformers have garnered significant worldwide attention, possibly a byproduct of their attention mechanisms. While transformers are powerful tools in NLP, their approach to understanding language is based on statistical learning from large datasets. They are highly effective in many contexts *but might not always align perfectly with the complexities of human language understanding*. On the other hand, the CYK algorithm, with its basis in formal grammar theory, offers a more rule-based approach to parsing language. It can break down sentences into their grammatical components, making CYK particularly valuable in applications where precise syntax parsing is crucial, such as in compiling programming languages or in certain aspects of natural language understanding where the exact structure of sentences is significant. \n",
    "\n",
    "Which brings us to the next topic: parts of speech. \n",
    "\n",
    "##### Part of Speech <a name=\"subparagraph11\"></a>\n",
    "In NLP and any linguistics domain, parts of speech is a key terminology. Part of speech refers to a category of words with similar grammatical properties. Words in the same part of speech play similar roles in sentences and share similar rules of grammar. The main parts of speech in English include nouns, pronouns, verbs, adjectives, prepositions and so on. Identifying parts of speech and aligning substrings with these parts are the main preparations to enable the CYK algorithm to analyze sentence structure. \n",
    "\n",
    "For instance, with a suitable context-free grammar provided in Chomsky Normal Form (CNF) that shows 'blue' as an adjective, 'bird' as a noun, 'sings' as a verb, 'happily' as an adverb, 'in' as a preposition, 'the' as a definite article, and 'spring' as a noun, the CYK algorithm can determine whether a sentence like 'The blue bird sings happily in the spring' is structurally valid according to that grammar."
   ]
  },
  {
   "cell_type": "markdown",
   "metadata": {},
   "source": [
    "#### Sources <a name=\"sources\"></a>"
   ]
  }
 ],
 "metadata": {
  "kernelspec": {
   "display_name": "Python 3",
   "language": "python",
   "name": "python3"
  },
  "language_info": {
   "name": "python",
   "version": "3.11.6"
  }
 },
 "nbformat": 4,
 "nbformat_minor": 2
}
